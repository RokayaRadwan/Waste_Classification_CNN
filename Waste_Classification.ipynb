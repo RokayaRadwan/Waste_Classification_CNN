{
 "cells": [
  {
   "cell_type": "code",
   "execution_count": 46,
   "id": "84031e64",
   "metadata": {},
   "outputs": [],
   "source": [
    "import os\n",
    "import torch\n",
    "from torch.utils.data import DataLoader, Dataset\n",
    "from torchvision import transforms\n",
    "from PIL import Image\n",
    "import random\n",
    "\n",
    "from torch import nn\n",
    "import torch.optim as optim"
   ]
  },
  {
   "cell_type": "code",
   "execution_count": 47,
   "id": "105822f6",
   "metadata": {},
   "outputs": [],
   "source": [
    "class WasteDataset(Dataset):\n",
    "    def __init__(self, root_dir, split, transform=None):\n",
    "        self.root_dir = root_dir\n",
    "        self.transform = transform\n",
    "        self.classes = sorted(os.listdir(root_dir))\n",
    "        self.image_paths = []\n",
    "        self.labels = []\n",
    "        \n",
    "        for i, class_name in enumerate(self.classes):\n",
    "            class_dir = os.path.join(root_dir, class_name)\n",
    "            for subfolder in ['default', 'real_world']:\n",
    "                subfolder_dir = os.path.join(class_dir, subfolder)\n",
    "                image_names = os.listdir(subfolder_dir)\n",
    "                random.shuffle(image_names)\n",
    "                \n",
    "                if split == 'train':\n",
    "                    image_names = image_names[:int(0.6 * len(image_names))]\n",
    "                elif split == 'val':\n",
    "                    image_names = image_names[int(0.6 * len(image_names)):int(0.8 * len(image_names))]\n",
    "                else:  # split == 'test'\n",
    "                    image_names = image_names[int(0.8 * len(image_names)):]\n",
    "                \n",
    "                for image_name in image_names:\n",
    "                    self.image_paths.append(os.path.join(subfolder_dir, image_name))\n",
    "                    self.labels.append(i)\n",
    "    \n",
    "    def __len__(self):\n",
    "        return len(self.image_paths)\n",
    "    \n",
    "    def __getitem__(self, index):\n",
    "        image_path = self.image_paths[index]\n",
    "        label = self.labels[index]\n",
    "        image = Image.open(image_path).convert('RGB')\n",
    "        \n",
    "        if self.transform:\n",
    "            image = self.transform(image)\n",
    "        \n",
    "        return image, label"
   ]
  },
  {
   "cell_type": "code",
   "execution_count": null,
   "id": "737ec3b3",
   "metadata": {},
   "outputs": [],
   "source": [
    "# Child class inheretied from parent class (nn.Module: Base class for all neural network modules)\n",
    "class Custom_CNN_Model(nn.Module):\n",
    "    def __init__(self, waste_classes_nb):\n",
    "        super().__init__()\n",
    "        self.conv1 = nn.Conv2d(3,out_channels=16, kernel_size=4,stride=1,padding=1)\n",
    "        self.conv2 = nn.Conv2d(16,out_channels=32, kernel_size=3,stride=1,padding=1)\n",
    "        self.conv3 = nn.Conv2d(32,out_channels=64, kernel_size=3,stride=1,padding=1)\n",
    "        self.conv4 = nn.Conv2d(64,out_channels=128, kernel_size=3,stride=1,padding=1)\n",
    "        self.conv5 = nn.Conv2d(128,out_channels=256, kernel_size=3,stride=1,padding=1)\n",
    "        self.conv6 = nn.Conv2d(256,out_channels=512, kernel_size=3,stride=1,padding=1)\n",
    "\n",
    "        self.relu = nn.ReLU()\n",
    "        self.maxpooling = nn.MaxPool2d(2,2)\n",
    "\n",
    "        self.fc1 = nn.Linear(512*6*6, 512)\n",
    "        self.fc2 = nn.Linear(512, waste_classes_nb)\n",
    "\n",
    "\n",
    "    def forward(self, mod):\n",
    "        mod = self.conv1(mod)  # 16 x 223 x 223\n",
    "        mod = self.relu(mod)\n",
    "        mod = self.maxpooling(mod)  # 16 x 111 x 111\n",
    "        \n",
    "        mod = self.conv2(mod) # 32 x 111 x 111\n",
    "        mod = self.relu(mod)\n",
    "        mod = self.maxpooling(mod) # 32 x 55 x 55\n",
    "\n",
    "        mod = self.conv3(mod)  # 64 x 55 x 55\n",
    "        mod = self.relu(mod)\n",
    "        mod = self.conv4(mod)  # 128 x 55 x 55\n",
    "        mod = self.relu(mod)\n",
    "        mod = self.maxpooling(mod) # 128 x 27 x 27\n",
    "\n",
    "        mod = self.conv5(mod) # 256 x 27 x 27\n",
    "        mod = self.relu(mod)\n",
    "        mod = self.maxpooling(mod) # 256 x 13 x 13\n",
    "\n",
    "        mod = self.conv6(mod) # 512 x 13 x 13\n",
    "        mod = self.relu(mod)\n",
    "        mod = self.maxpooling(mod) # 512 x 6 x 6\n",
    "        \n",
    "\n",
    "        mod = mod.view(mod.size(0), -1)\n",
    "\n",
    "        mod = self.fc1(mod)\n",
    "        mod = self.relu(mod)\n",
    "        mod = self.fc2(mod)\n",
    "        return mod\n"
   ]
  },
  {
   "cell_type": "code",
   "execution_count": 49,
   "id": "4442e665",
   "metadata": {},
   "outputs": [],
   "source": [
    "# Load dataset path\n",
    "dataset_path = r'C:\\Users\\rouka\\OneDrive\\Desktop\\Uni\\year 3\\semester 2\\CSE 351 - Intro to AI\\Final_Project\\archive\\images\\images'\n",
    "\n",
    "# Set dataset hyperparameters\n",
    "batch_size = 32\n",
    "num_epochs = 5\n",
    "learning_rate = 0.001"
   ]
  },
  {
   "cell_type": "code",
   "execution_count": 50,
   "id": "55528176",
   "metadata": {},
   "outputs": [],
   "source": [
    "# Create the datasets and data loaders\n",
    "transform = transforms.Compose([\n",
    "    transforms.Resize((224, 224)),\n",
    "    transforms.ToTensor(),\n",
    "    transforms.Normalize(mean=[0.485, 0.456, 0.406], std=[0.229, 0.224, 0.225])\n",
    "])\n",
    "train_dataset = WasteDataset(dataset_path, split='train', transform=transform)\n",
    "val_dataset = WasteDataset(dataset_path, split='val', transform=transform)\n",
    "test_dataset = WasteDataset(dataset_path, split='test', transform=transform)\n",
    "train_dataloader = DataLoader(train_dataset, batch_size=batch_size, shuffle=True)\n",
    "val_dataloader = DataLoader(val_dataset, batch_size=batch_size, shuffle=False)\n",
    "test_dataloader = DataLoader(test_dataset, batch_size=batch_size, shuffle=False)"
   ]
  },
  {
   "cell_type": "code",
   "execution_count": 51,
   "id": "f2730167",
   "metadata": {},
   "outputs": [
    {
     "name": "stdout",
     "output_type": "stream",
     "text": [
      "['shoes', 'steel_food_cans', 'styrofoam_cups', 'styrofoam_food_containers', 'tea_bags']\n",
      "5\n"
     ]
    }
   ],
   "source": [
    "Waste_Classes = train_dataset.classes\n",
    "print(Waste_Classes)\n",
    "\n",
    "Waste_Classes_NB = len(Waste_Classes)\n",
    "print(Waste_Classes_NB)"
   ]
  },
  {
   "cell_type": "code",
   "execution_count": 52,
   "id": "aa99512b",
   "metadata": {},
   "outputs": [],
   "source": [
    "model = Custom_CNN_Model(Waste_Classes_NB)\n",
    "criterion = nn.CrossEntropyLoss()\n",
    "optimizer = optim.Adam(model.parameters(), lr=learning_rate)"
   ]
  },
  {
   "cell_type": "code",
   "execution_count": 53,
   "id": "973aa4a8",
   "metadata": {},
   "outputs": [
    {
     "name": "stdout",
     "output_type": "stream",
     "text": [
      "Epoch [1/5], Train Loss: 1.4801\n",
      "Epoch [2/5], Train Loss: 1.2973\n",
      "Epoch [3/5], Train Loss: 1.2022\n",
      "Epoch [4/5], Train Loss: 1.1075\n",
      "Epoch [5/5], Train Loss: 1.0374\n",
      "Training completed!\n"
     ]
    }
   ],
   "source": [
    "# Lists to store the training and validation losses\n",
    "train_losses = []\n",
    "val_losses = []\n",
    "\n",
    "# Training loop\n",
    "for epoch in range(num_epochs):\n",
    "    # Training\n",
    "    model.train()\n",
    "    train_loss = 0.0\n",
    "    for images, labels in train_dataloader:\n",
    "        images = images\n",
    "        labels = labels\n",
    "        \n",
    "        outputs = model(images)\n",
    "        loss = criterion(outputs, labels)\n",
    "        \n",
    "        optimizer.zero_grad()\n",
    "        loss.backward()\n",
    "        optimizer.step()\n",
    "        \n",
    "        train_loss += loss.item() * images.size(0)\n",
    "    \n",
    "    train_loss /= len(train_dataset)\n",
    "    train_losses.append(train_loss)\n",
    "    print(f\"Epoch [{epoch+1}/{num_epochs}], Train Loss: {train_loss:.4f}\")\n",
    "\n",
    "print(\"Training completed!\")"
   ]
  }
 ],
 "metadata": {
  "kernelspec": {
   "display_name": "Python 3",
   "language": "python",
   "name": "python3"
  },
  "language_info": {
   "codemirror_mode": {
    "name": "ipython",
    "version": 3
   },
   "file_extension": ".py",
   "mimetype": "text/x-python",
   "name": "python",
   "nbconvert_exporter": "python",
   "pygments_lexer": "ipython3",
   "version": "3.13.1"
  }
 },
 "nbformat": 4,
 "nbformat_minor": 5
}
